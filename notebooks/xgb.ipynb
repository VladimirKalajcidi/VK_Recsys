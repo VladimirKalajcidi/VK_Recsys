{
 "cells": [
  {
   "cell_type": "code",
   "execution_count": 1,
   "metadata": {
    "execution": {
     "iopub.execute_input": "2024-11-01T13:27:33.129771Z",
     "iopub.status.busy": "2024-11-01T13:27:33.128187Z",
     "iopub.status.idle": "2024-11-01T13:27:36.544684Z",
     "shell.execute_reply": "2024-11-01T13:27:36.543007Z",
     "shell.execute_reply.started": "2024-11-01T13:27:33.129676Z"
    },
    "trusted": true
   },
   "outputs": [],
   "source": [
    "import pandas as pd\n",
    "import numpy as np\n",
    "\n",
    "from sklearn.ensemble import GradientBoostingClassifier, RandomForestClassifier\n",
    "from sklearn.linear_model import SGDClassifier\n",
    "import xgboost as xgb\n",
    "from sklearn.model_selection import GridSearchCV\n"
   ]
  },
  {
   "cell_type": "code",
   "execution_count": 2,
   "metadata": {
    "execution": {
     "iopub.execute_input": "2024-11-01T13:27:36.548628Z",
     "iopub.status.busy": "2024-11-01T13:27:36.547561Z",
     "iopub.status.idle": "2024-11-01T13:27:36.559774Z",
     "shell.execute_reply": "2024-11-01T13:27:36.558225Z",
     "shell.execute_reply.started": "2024-11-01T13:27:36.548577Z"
    },
    "trusted": true
   },
   "outputs": [
    {
     "name": "stdout",
     "output_type": "stream",
     "text": [
      "/Users/vladimirkalajcidi/vk_recsys\n"
     ]
    }
   ],
   "source": [
    "%cd /Users/vladimirkalajcidi/vk_recsys"
   ]
  },
  {
   "cell_type": "code",
   "execution_count": 3,
   "metadata": {
    "execution": {
     "iopub.execute_input": "2024-11-01T13:27:36.562465Z",
     "iopub.status.busy": "2024-11-01T13:27:36.561832Z",
     "iopub.status.idle": "2024-11-01T13:28:51.556160Z",
     "shell.execute_reply": "2024-11-01T13:28:51.554522Z",
     "shell.execute_reply.started": "2024-11-01T13:27:36.562384Z"
    },
    "trusted": true
   },
   "outputs": [],
   "source": [
    "train_interactions = pd.read_parquet('data/train_interactions.parquet')\n",
    "users_meta = pd.read_parquet('data/users_meta.parquet')\n",
    "items_meta = pd.read_parquet('data/items_meta.parquet')"
   ]
  },
  {
   "cell_type": "code",
   "execution_count": 4,
   "metadata": {
    "execution": {
     "iopub.execute_input": "2024-11-01T13:28:51.561286Z",
     "iopub.status.busy": "2024-11-01T13:28:51.560011Z",
     "iopub.status.idle": "2024-11-01T13:28:51.616977Z",
     "shell.execute_reply": "2024-11-01T13:28:51.615418Z",
     "shell.execute_reply.started": "2024-11-01T13:28:51.561218Z"
    },
    "trusted": true
   },
   "outputs": [],
   "source": [
    "items_meta=items_meta.drop(columns=['embeddings'])"
   ]
  },
  {
   "cell_type": "code",
   "execution_count": 5,
   "metadata": {
    "execution": {
     "iopub.execute_input": "2024-11-01T13:28:51.619085Z",
     "iopub.status.busy": "2024-11-01T13:28:51.618671Z",
     "iopub.status.idle": "2024-11-01T13:28:51.627498Z",
     "shell.execute_reply": "2024-11-01T13:28:51.625869Z",
     "shell.execute_reply.started": "2024-11-01T13:28:51.619036Z"
    },
    "trusted": true
   },
   "outputs": [],
   "source": [
    "def calculate_unique_sources(df):\n",
    "    \"\"\" Calculates the number of unique source_ids for each user_id in the given DataFrame. \"\"\"\n",
    "    user_sources = df.merge(items_meta[['item_id', 'source_id']], on='item_id', how='left')\n",
    "    unique_source_count = user_sources.groupby('user_id')['source_id'].nunique().reset_index(name='unique_source_count')\n",
    "    return unique_source_count"
   ]
  },
  {
   "cell_type": "code",
   "execution_count": 6,
   "metadata": {
    "execution": {
     "iopub.execute_input": "2024-11-01T13:28:51.630447Z",
     "iopub.status.busy": "2024-11-01T13:28:51.629845Z",
     "iopub.status.idle": "2024-11-01T13:28:51.653544Z",
     "shell.execute_reply": "2024-11-01T13:28:51.651830Z",
     "shell.execute_reply.started": "2024-11-01T13:28:51.630386Z"
    },
    "trusted": true
   },
   "outputs": [],
   "source": [
    "# Prepare DataFrames for storing item metrics and user metrics\n",
    "item_metrics_final = pd.DataFrame()\n",
    "user_metrics_final = pd.DataFrame()\n",
    "\n",
    "# Define functions for metrics calculations\n",
    "def calculate_item_metrics(df):\n",
    "    item_metrics = df.groupby('item_id').agg(\n",
    "        total_likes=('like', 'sum'),\n",
    "        total_dislikes=('dislike', 'sum'),\n",
    "        total_shares=('share', 'sum'),\n",
    "        total_bookmarks=('bookmarks', 'sum'),\n",
    "        avg_timespent=('timespent', 'mean'),\n",
    "    ).reset_index()\n",
    "    return item_metrics\n",
    "\n",
    "def calculate_gender_metrics(df, users_meta):\n",
    "    # Merge interactions with user metadata\n",
    "    extended_df = df.merge(users_meta, on='user_id', how='left')\n",
    "\n",
    "    # Calculate likes and dislikes for males (1) and females (2)\n",
    "    gender_likes = extended_df[extended_df['like'] == 1].groupby(['item_id', 'gender']).size().unstack(fill_value=0)\n",
    "\n",
    "    male_likes = gender_likes.get(1, pd.Series(0)).reset_index(name='male_likes')\n",
    "    female_likes = gender_likes.get(2, pd.Series(0)).reset_index(name='female_likes')\n",
    "\n",
    "    gender_dislikes = extended_df[extended_df['dislike'] == 1].groupby(['item_id', 'gender']).size().unstack(fill_value=0)\n",
    "\n",
    "    male_dislikes = gender_dislikes.get(1, pd.Series(0)).reset_index(name='male_dislikes')\n",
    "    female_dislikes = gender_dislikes.get(2, pd.Series(0)).reset_index(name='female_dislikes')\n",
    "\n",
    "    # Merge the results\n",
    "    male_likes = male_likes.rename(columns={male_likes.columns[0]: 'item_id'})\n",
    "    female_likes = female_likes.rename(columns={female_likes.columns[0]: 'item_id'})\n",
    "    male_dislikes = male_dislikes.rename(columns={male_dislikes.columns[0]: 'item_id'})\n",
    "    female_dislikes = female_dislikes.rename(columns={female_dislikes.columns[0]: 'item_id'})\n",
    "\n",
    "    return male_likes, female_likes, male_dislikes, female_dislikes\n",
    "\n",
    "def calculate_unique_sources(df):\n",
    "    user_sources = df.merge(items_meta[['item_id', 'source_id']], on='item_id', how='left')\n",
    "    unique_source_count = user_sources.groupby('user_id')['source_id'].nunique().reset_index(name='unique_source_count')\n",
    "    return unique_source_count\n"
   ]
  },
  {
   "cell_type": "code",
   "execution_count": 7,
   "metadata": {
    "execution": {
     "iopub.execute_input": "2024-11-01T13:28:51.655578Z",
     "iopub.status.busy": "2024-11-01T13:28:51.655118Z",
     "iopub.status.idle": "2024-11-01T13:28:51.678068Z",
     "shell.execute_reply": "2024-11-01T13:28:51.676507Z",
     "shell.execute_reply.started": "2024-11-01T13:28:51.655532Z"
    },
    "trusted": true
   },
   "outputs": [],
   "source": [
    "def calculate_metrics(train_interactions, users_meta, items_meta):\n",
    "    # Step 1: Count likes and occurrences of each item_id\n",
    "    likes_count = train_interactions[train_interactions['like'] == 1].groupby('item_id').size().reset_index(name='total_likes')\n",
    "    item_encounter_count = train_interactions['item_id'].value_counts().reset_index()\n",
    "    item_encounter_count.columns = ['item_id', 'item_encounter_count']\n",
    "    \n",
    "    # Step 2: Merge likes count with encounter count\n",
    "    item_metrics = likes_count.merge(item_encounter_count, on='item_id', how='left').fillna(0)\n",
    "\n",
    "    # Step 3: Count likes by gender\n",
    "    gender_likes = (\n",
    "        train_interactions[train_interactions['like'] == 1]\n",
    "        .merge(users_meta[['user_id', 'gender']], on='user_id', how='left')\n",
    "        .groupby(['item_id', 'gender'])\n",
    "        .size()\n",
    "        .unstack(fill_value=0)\n",
    "    )\n",
    "\n",
    "    # Prepare the gender like counts\n",
    "    male_likes = gender_likes.get(1, pd.Series(0)).reset_index(name='male_likes')\n",
    "    female_likes = gender_likes.get(2, pd.Series(0)).reset_index(name='female_likes')\n",
    "\n",
    "    # Step 4: Merge gender likes into item metrics\n",
    "    item_metrics = item_metrics.merge(male_likes, on='item_id', how='left').fillna(0)\n",
    "    item_metrics = item_metrics.merge(female_likes, on='item_id', how='left').fillna(0)\n",
    "\n",
    "    # Calculate the average likes by gender\n",
    "    item_metrics['avg_likes_per_gender'] = (item_metrics['male_likes'] + item_metrics['female_likes']) / 2\n",
    "\n",
    "\n",
    "    return item_metrics\n",
    "\n",
    "# Load your data"
   ]
  },
  {
   "cell_type": "code",
   "execution_count": null,
   "metadata": {
    "execution": {
     "iopub.execute_input": "2024-11-01T13:28:51.681192Z",
     "iopub.status.busy": "2024-11-01T13:28:51.680697Z",
     "iopub.status.idle": "2024-11-01T13:28:57.213290Z",
     "shell.execute_reply": "2024-11-01T13:28:57.211857Z",
     "shell.execute_reply.started": "2024-11-01T13:28:51.681138Z"
    },
    "trusted": true
   },
   "outputs": [
    {
     "name": "stdout",
     "output_type": "stream",
     "text": [
      "   item_id  total_likes  item_encounter_count  male_likes  female_likes  \\\n",
      "0        0            3                    51           0             3   \n",
      "1        1            3                    43           0             3   \n",
      "2        2            5                    63           1             4   \n",
      "3        3            7                    97           0             7   \n",
      "4        4           16                   192           0            16   \n",
      "\n",
      "   avg_likes_per_gender  \n",
      "0                   1.5  \n",
      "1                   1.5  \n",
      "2                   2.5  \n",
      "3                   3.5  \n",
      "4                   8.0  \n"
     ]
    }
   ],
   "source": [
    "# Call the function to calculate metrics and merge with items_meta\n",
    "result = calculate_metrics(train_interactions, users_meta, items_meta)"
   ]
  },
  {
   "cell_type": "code",
   "execution_count": 9,
   "metadata": {
    "execution": {
     "iopub.execute_input": "2024-11-01T13:28:57.215380Z",
     "iopub.status.busy": "2024-11-01T13:28:57.214991Z",
     "iopub.status.idle": "2024-11-01T13:31:16.399360Z",
     "shell.execute_reply": "2024-11-01T13:31:16.396863Z",
     "shell.execute_reply.started": "2024-11-01T13:28:57.215341Z"
    },
    "trusted": true
   },
   "outputs": [],
   "source": [
    "# Loop through each specified row count\n",
    "# Calculate item metrics\n",
    "item_metrics = calculate_item_metrics(train_interactions)\n",
    "male_likes, female_likes, male_dislikes, female_dislikes = calculate_gender_metrics(train_interactions, users_meta)\n",
    "\n",
    "# Merge gender metrics\n",
    "item_metrics = item_metrics.merge(male_likes, on='item_id', how='left')\n",
    "item_metrics = item_metrics.merge(female_likes, on='item_id', how='left')\n",
    "item_metrics = item_metrics.merge(male_dislikes, on='item_id', how='left')\n",
    "item_metrics = item_metrics.merge(female_dislikes, on='item_id', how='left')\n",
    "item_metrics = item_metrics.merge(result, on='item_id', how='left')\n",
    "\n",
    "# Add suffix to distinguish metrics by row count\n",
    "\n",
    "item_metrics.columns = [f'{col}_all' if col != 'item_id' else 'item_id' for col in item_metrics.columns]\n",
    "\n",
    "# Merge into the final aggregated metrics DataFrame\n",
    "if item_metrics_final.empty:\n",
    "    item_metrics_final = item_metrics\n",
    "else:\n",
    "    item_metrics_final = item_metrics_final.merge(item_metrics, on='item_id', how='outer')\n",
    "\n",
    "# Calculate unique source counts for users and merge into user metrics DataFrame\n",
    "user_unique_sources = calculate_unique_sources(train_interactions)\n",
    "\n",
    "# Add suffix for user metrics by row count\n",
    "user_unique_sources.columns = ['user_id', f'unique_source_count_all']\n",
    "\n",
    "if user_metrics_final.empty:\n",
    "    user_metrics_final = user_unique_sources\n",
    "else:\n",
    "    user_metrics_final = user_metrics_final.merge(user_unique_sources, on='user_id', how='outer')\n"
   ]
  },
  {
   "cell_type": "code",
   "execution_count": 10,
   "metadata": {
    "execution": {
     "iopub.execute_input": "2024-11-01T13:31:16.406463Z",
     "iopub.status.busy": "2024-11-01T13:31:16.405969Z",
     "iopub.status.idle": "2024-11-01T13:31:16.595106Z",
     "shell.execute_reply": "2024-11-01T13:31:16.593312Z",
     "shell.execute_reply.started": "2024-11-01T13:31:16.406418Z"
    },
    "trusted": true
   },
   "outputs": [],
   "source": [
    "items_meta = items_meta.merge(item_metrics_final, on='item_id', how='left')\n",
    "items_meta.fillna(0, inplace=True)\n",
    "\n",
    "users_meta = users_meta.merge(user_metrics_final, on='user_id', how='left')\n",
    "users_meta.fillna(0, inplace=True)"
   ]
  },
  {
   "cell_type": "code",
   "execution_count": 11,
   "metadata": {
    "execution": {
     "iopub.execute_input": "2024-11-01T13:31:16.597450Z",
     "iopub.status.busy": "2024-11-01T13:31:16.597017Z",
     "iopub.status.idle": "2024-11-01T13:31:17.303086Z",
     "shell.execute_reply": "2024-11-01T13:31:17.301308Z",
     "shell.execute_reply.started": "2024-11-01T13:31:16.597407Z"
    },
    "trusted": true
   },
   "outputs": [],
   "source": [
    "test_pairs = pd.read_csv('data/test_pairs.csv')\n",
    "\n",
    "users = test_pairs['user_id'].unique()\n",
    "items = test_pairs['item_id'].unique()"
   ]
  },
  {
   "cell_type": "code",
   "execution_count": 12,
   "metadata": {
    "execution": {
     "iopub.execute_input": "2024-11-01T13:31:17.305582Z",
     "iopub.status.busy": "2024-11-01T13:31:17.305121Z"
    },
    "trusted": true
   },
   "outputs": [],
   "source": [
    "train_interactions['like'] = train_interactions['like'].astype('int32')    # Convert to signed integer\n",
    "train_interactions['dislike'] = train_interactions['dislike'].astype('int32')  # Convert to signed integer\n",
    "\n",
    "train_interactions['label'] = abs(train_interactions['like'] - train_interactions['dislike'])\n",
    "\n",
    "#train_interactions = train_interactions[train_interactions['user_id'].isin(users)][train_interactions['item_id'].isin(items)]\n",
    "#train_interactions = train_interactions.loc[5_000_000:]"
   ]
  },
  {
   "cell_type": "code",
   "execution_count": 13,
   "metadata": {
    "trusted": true
   },
   "outputs": [],
   "source": [
    "train_interactions = train_interactions.merge(users_meta, on='user_id', how='left')\n",
    "train_interactions = train_interactions.merge(items_meta, on='item_id', how='left')"
   ]
  },
  {
   "cell_type": "code",
   "execution_count": 14,
   "metadata": {
    "trusted": true
   },
   "outputs": [],
   "source": [
    "train_interactions = train_interactions[['gender', 'age', 'unique_source_count_all',\n",
    "       'source_id', 'duration', 'total_likes_x_all', 'total_dislikes_all',\n",
    "       'total_shares_all', 'total_bookmarks_all', 'avg_timespent_all',\n",
    "       'male_likes_x_all', 'female_likes_x_all', 'male_dislikes_all',\n",
    "       'female_dislikes_all', 'item_encounter_count_all',\n",
    "       'avg_likes_per_gender_all', 'label']]"
   ]
  },
  {
   "cell_type": "code",
   "execution_count": null,
   "metadata": {},
   "outputs": [],
   "source": [
    "'''from sklearn.model_selection import GridSearchCV\n",
    "\n",
    "estimator = xgb.XGBClassifier(\n",
    "    objective= 'binary:logistic',\n",
    "    seed=42\n",
    ")\n",
    "\n",
    "parameters = {\n",
    "    'max_depth': range (2, 10, 1),\n",
    "    'n_estimators': [5],\n",
    "    'learning_rate': [0.1, 0.01, 0.05]\n",
    "}\n",
    "\n",
    "grid_search = GridSearchCV(\n",
    "    estimator=estimator,\n",
    "    param_grid=parameters,\n",
    "    scoring = 'roc_auc',\n",
    "    verbose=True\n",
    ")\n",
    "\n",
    "grid_search.fit(train_interactions.drop(columns=['label'], train_interactions['label']))'''"
   ]
  },
  {
   "cell_type": "code",
   "execution_count": null,
   "metadata": {
    "trusted": true
   },
   "outputs": [
    {
     "data": {
      "text/plain": [
       "\"params = {\\n    'tree_method': 'exact',\\n    'objective': 'binary:logistic'\\n}\\nnum_boost_round = 20\\nclass_weight = len(train_interactions[train_interactions['label'] == 0]) / len(train_interactions[train_interactions['label'] == 1])\\n\\nclf = xgb.XGBClassifier(n_estimators=num_boost_round, scale_pos_weight=class_weight, **params)\\nclf.fit(train_interactions.drop(columns=['label']), train_interactions['label'])\""
      ]
     },
     "execution_count": 25,
     "metadata": {},
     "output_type": "execute_result"
    }
   ],
   "source": [
    "params = {\n",
    "    'tree_method': 'exact',\n",
    "    'objective': 'binary:logistic',\n",
    "    'max_depth': 9,\n",
    "    'learning_rate': 0.1\n",
    "}\n",
    "num_boost_round = 50\n",
    "class_weight = len(train_interactions[train_interactions['label'] == 0]) / len(train_interactions[train_interactions['label'] == 1])\n",
    "\n",
    "clf = xgb.XGBClassifier(n_estimators=num_boost_round, scale_pos_weight=class_weight, **params)\n",
    "clf.fit(train_interactions.drop(columns=['label']), train_interactions['label'])"
   ]
  },
  {
   "cell_type": "code",
   "execution_count": 40,
   "metadata": {
    "trusted": true
   },
   "outputs": [],
   "source": [
    "test_pairs = pd.read_csv('data/test_pairs.csv')\n",
    "\n",
    "test_pairs = test_pairs.merge(users_meta, on='user_id', how='left')\n",
    "test_pairs = test_pairs.merge(items_meta, on='item_id', how='left')\n",
    "\n",
    "test_pairs = test_pairs[['gender', 'age', 'unique_source_count_all', 'source_id', 'duration',\n",
    "       'total_likes_x_all', 'total_dislikes_all', 'total_shares_all',\n",
    "       'total_bookmarks_all', 'avg_timespent_all', 'male_likes_x_all',\n",
    "       'female_likes_x_all', 'male_dislikes_all', 'female_dislikes_all',\n",
    "       'item_encounter_count_all', 'avg_likes_per_gender_all']]"
   ]
  },
  {
   "cell_type": "code",
   "execution_count": 27,
   "metadata": {},
   "outputs": [
    {
     "data": {
      "text/html": [
       "<div>\n",
       "<style scoped>\n",
       "    .dataframe tbody tr th:only-of-type {\n",
       "        vertical-align: middle;\n",
       "    }\n",
       "\n",
       "    .dataframe tbody tr th {\n",
       "        vertical-align: top;\n",
       "    }\n",
       "\n",
       "    .dataframe thead th {\n",
       "        text-align: right;\n",
       "    }\n",
       "</style>\n",
       "<table border=\"1\" class=\"dataframe\">\n",
       "  <thead>\n",
       "    <tr style=\"text-align: right;\">\n",
       "      <th></th>\n",
       "      <th>gender</th>\n",
       "      <th>age</th>\n",
       "      <th>unique_source_count_all</th>\n",
       "      <th>source_id</th>\n",
       "      <th>duration</th>\n",
       "      <th>total_likes_x_all</th>\n",
       "      <th>total_dislikes_all</th>\n",
       "      <th>total_shares_all</th>\n",
       "      <th>total_bookmarks_all</th>\n",
       "      <th>avg_timespent_all</th>\n",
       "      <th>male_likes_x_all</th>\n",
       "      <th>female_likes_x_all</th>\n",
       "      <th>male_dislikes_all</th>\n",
       "      <th>female_dislikes_all</th>\n",
       "      <th>item_encounter_count_all</th>\n",
       "      <th>avg_likes_per_gender_all</th>\n",
       "    </tr>\n",
       "  </thead>\n",
       "  <tbody>\n",
       "    <tr>\n",
       "      <th>0</th>\n",
       "      <td>2</td>\n",
       "      <td>35</td>\n",
       "      <td>145</td>\n",
       "      <td>5119</td>\n",
       "      <td>9</td>\n",
       "      <td>2308</td>\n",
       "      <td>1</td>\n",
       "      <td>614</td>\n",
       "      <td>35</td>\n",
       "      <td>7.494987</td>\n",
       "      <td>558.0</td>\n",
       "      <td>1750.0</td>\n",
       "      <td>0.0</td>\n",
       "      <td>1.0</td>\n",
       "      <td>15659.0</td>\n",
       "      <td>1154.0</td>\n",
       "    </tr>\n",
       "    <tr>\n",
       "      <th>1</th>\n",
       "      <td>2</td>\n",
       "      <td>35</td>\n",
       "      <td>145</td>\n",
       "      <td>2720</td>\n",
       "      <td>5</td>\n",
       "      <td>1110</td>\n",
       "      <td>1</td>\n",
       "      <td>144</td>\n",
       "      <td>53</td>\n",
       "      <td>5.802824</td>\n",
       "      <td>180.0</td>\n",
       "      <td>930.0</td>\n",
       "      <td>0.0</td>\n",
       "      <td>1.0</td>\n",
       "      <td>6091.0</td>\n",
       "      <td>555.0</td>\n",
       "    </tr>\n",
       "    <tr>\n",
       "      <th>2</th>\n",
       "      <td>2</td>\n",
       "      <td>35</td>\n",
       "      <td>145</td>\n",
       "      <td>11601</td>\n",
       "      <td>32</td>\n",
       "      <td>379</td>\n",
       "      <td>1</td>\n",
       "      <td>101</td>\n",
       "      <td>10</td>\n",
       "      <td>21.974728</td>\n",
       "      <td>2.0</td>\n",
       "      <td>377.0</td>\n",
       "      <td>0.0</td>\n",
       "      <td>1.0</td>\n",
       "      <td>3126.0</td>\n",
       "      <td>189.5</td>\n",
       "    </tr>\n",
       "    <tr>\n",
       "      <th>3</th>\n",
       "      <td>2</td>\n",
       "      <td>35</td>\n",
       "      <td>145</td>\n",
       "      <td>4296</td>\n",
       "      <td>10</td>\n",
       "      <td>1532</td>\n",
       "      <td>2</td>\n",
       "      <td>463</td>\n",
       "      <td>8</td>\n",
       "      <td>8.337730</td>\n",
       "      <td>139.0</td>\n",
       "      <td>1393.0</td>\n",
       "      <td>1.0</td>\n",
       "      <td>1.0</td>\n",
       "      <td>14556.0</td>\n",
       "      <td>766.0</td>\n",
       "    </tr>\n",
       "    <tr>\n",
       "      <th>4</th>\n",
       "      <td>2</td>\n",
       "      <td>35</td>\n",
       "      <td>145</td>\n",
       "      <td>18812</td>\n",
       "      <td>38</td>\n",
       "      <td>134</td>\n",
       "      <td>2</td>\n",
       "      <td>52</td>\n",
       "      <td>4</td>\n",
       "      <td>26.483355</td>\n",
       "      <td>2.0</td>\n",
       "      <td>132.0</td>\n",
       "      <td>0.0</td>\n",
       "      <td>2.0</td>\n",
       "      <td>5317.0</td>\n",
       "      <td>67.0</td>\n",
       "    </tr>\n",
       "  </tbody>\n",
       "</table>\n",
       "</div>"
      ],
      "text/plain": [
       "   gender  age  unique_source_count_all  source_id  duration  \\\n",
       "0       2   35                      145       5119         9   \n",
       "1       2   35                      145       2720         5   \n",
       "2       2   35                      145      11601        32   \n",
       "3       2   35                      145       4296        10   \n",
       "4       2   35                      145      18812        38   \n",
       "\n",
       "   total_likes_x_all  total_dislikes_all  total_shares_all  \\\n",
       "0               2308                   1               614   \n",
       "1               1110                   1               144   \n",
       "2                379                   1               101   \n",
       "3               1532                   2               463   \n",
       "4                134                   2                52   \n",
       "\n",
       "   total_bookmarks_all  avg_timespent_all  male_likes_x_all  \\\n",
       "0                   35           7.494987             558.0   \n",
       "1                   53           5.802824             180.0   \n",
       "2                   10          21.974728               2.0   \n",
       "3                    8           8.337730             139.0   \n",
       "4                    4          26.483355               2.0   \n",
       "\n",
       "   female_likes_x_all  male_dislikes_all  female_dislikes_all  \\\n",
       "0              1750.0                0.0                  1.0   \n",
       "1               930.0                0.0                  1.0   \n",
       "2               377.0                0.0                  1.0   \n",
       "3              1393.0                1.0                  1.0   \n",
       "4               132.0                0.0                  2.0   \n",
       "\n",
       "   item_encounter_count_all  avg_likes_per_gender_all  \n",
       "0                   15659.0                    1154.0  \n",
       "1                    6091.0                     555.0  \n",
       "2                    3126.0                     189.5  \n",
       "3                   14556.0                     766.0  \n",
       "4                    5317.0                      67.0  "
      ]
     },
     "execution_count": 27,
     "metadata": {},
     "output_type": "execute_result"
    }
   ],
   "source": [
    "test_pairs.head()"
   ]
  },
  {
   "cell_type": "code",
   "execution_count": 41,
   "metadata": {},
   "outputs": [],
   "source": [
    "result = model.predict_proba(test_pairs)"
   ]
  },
  {
   "cell_type": "code",
   "execution_count": 43,
   "metadata": {
    "trusted": true
   },
   "outputs": [],
   "source": [
    "result = model.predict_proba(test_pairs)\n",
    "result = [i[1] for i in result]\n",
    "\n",
    "test_pairs = pd.read_csv('data/test_pairs.csv')\n",
    "test_pairs['predict'] = result\n",
    "\n",
    "test_pairs.to_csv('sub_lightgbm.csv', index=False)"
   ]
  }
 ],
 "metadata": {
  "kaggle": {
   "accelerator": "none",
   "dataSources": [
    {
     "datasetId": 5981185,
     "sourceId": 9766180,
     "sourceType": "datasetVersion"
    }
   ],
   "dockerImageVersionId": 30787,
   "isGpuEnabled": false,
   "isInternetEnabled": true,
   "language": "python",
   "sourceType": "notebook"
  },
  "kernelspec": {
   "display_name": "vk_recsys",
   "language": "python",
   "name": "python3"
  },
  "language_info": {
   "codemirror_mode": {
    "name": "ipython",
    "version": 3
   },
   "file_extension": ".py",
   "mimetype": "text/x-python",
   "name": "python",
   "nbconvert_exporter": "python",
   "pygments_lexer": "ipython3",
   "version": "3.10.15"
  }
 },
 "nbformat": 4,
 "nbformat_minor": 4
}
