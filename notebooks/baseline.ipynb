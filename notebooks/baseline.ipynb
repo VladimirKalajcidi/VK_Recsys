{
 "cells": [
  {
   "cell_type": "code",
   "execution_count": 1,
   "metadata": {},
   "outputs": [
    {
     "ename": "",
     "evalue": "",
     "output_type": "error",
     "traceback": [
      "\u001b[1;31mThe Kernel crashed while executing code in the current cell or a previous cell. \n",
      "\u001b[1;31mPlease review the code in the cell(s) to identify a possible cause of the failure. \n",
      "\u001b[1;31mClick <a href='https://aka.ms/vscodeJupyterKernelCrash'>here</a> for more info. \n",
      "\u001b[1;31mView Jupyter <a href='command:jupyter.viewOutput'>log</a> for further details."
     ]
    }
   ],
   "source": [
    "from scipy.sparse import csr_matrix\n",
    "import polars as pl\n",
    "import implicit"
   ]
  },
  {
   "cell_type": "code",
   "execution_count": 55,
   "metadata": {},
   "outputs": [],
   "source": [
    "import pandas as pd\n",
    "df = pd.read_parquet('../data/train_interactions.parquet')\n",
    "df[:10].to_csv('../data/train_interactions.csv')"
   ]
  },
  {
   "cell_type": "code",
   "execution_count": null,
   "metadata": {},
   "outputs": [],
   "source": [
    "df = pd.read_parquet('../data/items_meta.parquet')\n",
    "df.to_csv('../data/items_meta.csv')"
   ]
  },
  {
   "cell_type": "code",
   "execution_count": 20,
   "metadata": {},
   "outputs": [],
   "source": [
    "df = pd.read_parquet('../data/users_meta.parquet')\n",
    "df.to_csv('../data/users_meta.csv')"
   ]
  },
  {
   "cell_type": "code",
   "execution_count": 19,
   "metadata": {},
   "outputs": [],
   "source": [
    "train = pl.scan_parquet(\"../data/train_interactions.parquet\")"
   ]
  },
  {
   "cell_type": "code",
   "execution_count": 22,
   "metadata": {},
   "outputs": [
    {
     "ename": "ModuleNotFoundError",
     "evalue": "No module named 'pyspark'",
     "output_type": "error",
     "traceback": [
      "\u001b[0;31m---------------------------------------------------------------------------\u001b[0m",
      "\u001b[0;31mModuleNotFoundError\u001b[0m                       Traceback (most recent call last)",
      "Cell \u001b[0;32mIn[22], line 1\u001b[0m\n\u001b[0;32m----> 1\u001b[0m \u001b[38;5;28;01mfrom\u001b[39;00m \u001b[38;5;21;01mpyspark\u001b[39;00m\u001b[38;5;21;01m.\u001b[39;00m\u001b[38;5;21;01msql\u001b[39;00m\u001b[38;5;21;01m.\u001b[39;00m\u001b[38;5;21;01mtypes\u001b[39;00m \u001b[38;5;28;01mimport\u001b[39;00m IntegerType\n",
      "\u001b[0;31mModuleNotFoundError\u001b[0m: No module named 'pyspark'"
     ]
    }
   ],
   "source": [
    "from pyspark.sql.types import IntegerType"
   ]
  },
  {
   "cell_type": "code",
   "execution_count": 21,
   "metadata": {},
   "outputs": [
    {
     "ename": "NameError",
     "evalue": "name 'IntegerType' is not defined",
     "output_type": "error",
     "traceback": [
      "\u001b[0;31m---------------------------------------------------------------------------\u001b[0m",
      "\u001b[0;31mNameError\u001b[0m                                 Traceback (most recent call last)",
      "Cell \u001b[0;32mIn[21], line 4\u001b[0m\n\u001b[1;32m      1\u001b[0m interaction_matrix \u001b[38;5;241m=\u001b[39m (\n\u001b[1;32m      2\u001b[0m     train\n\u001b[1;32m      3\u001b[0m     \u001b[38;5;241m.\u001b[39mwith_columns(\n\u001b[0;32m----> 4\u001b[0m         ((pl\u001b[38;5;241m.\u001b[39mcol(\u001b[38;5;124m\"\u001b[39m\u001b[38;5;124mlike\u001b[39m\u001b[38;5;124m\"\u001b[39m) \u001b[38;5;241m>\u001b[39m pl\u001b[38;5;241m.\u001b[39mcol(\u001b[38;5;124m\"\u001b[39m\u001b[38;5;124mdislike\u001b[39m\u001b[38;5;124m\"\u001b[39m))\u001b[38;5;241m.\u001b[39mcast(\u001b[43mIntegerType\u001b[49m()))\u001b[38;5;241m.\u001b[39malias(\u001b[38;5;124m\"\u001b[39m\u001b[38;5;124minteraction\u001b[39m\u001b[38;5;124m\"\u001b[39m)  \u001b[38;5;66;03m# Calculate net interaction score\u001b[39;00m\n\u001b[1;32m      5\u001b[0m     )\n\u001b[1;32m      6\u001b[0m )\n",
      "\u001b[0;31mNameError\u001b[0m: name 'IntegerType' is not defined"
     ]
    }
   ],
   "source": [
    "interaction_matrix = (\n",
    "    train\n",
    "    .with_columns(\n",
    "        (-1).alias(\"interaction\")  # Calculate net interaction score\n",
    "    )\n",
    ")"
   ]
  },
  {
   "cell_type": "code",
   "execution_count": 16,
   "metadata": {},
   "outputs": [],
   "source": [
    "interaction_matrix = interaction_matrix.select(\"user_id\", \"item_id\", \"interaction\")"
   ]
  },
  {
   "cell_type": "code",
   "execution_count": 17,
   "metadata": {},
   "outputs": [],
   "source": [
    "interaction_matrix = interaction_matrix.collect()"
   ]
  },
  {
   "cell_type": "code",
   "execution_count": 18,
   "metadata": {},
   "outputs": [
    {
     "data": {
      "text/html": [
       "<div><style>\n",
       ".dataframe > thead > tr,\n",
       ".dataframe > tbody > tr {\n",
       "  text-align: right;\n",
       "  white-space: pre-wrap;\n",
       "}\n",
       "</style>\n",
       "<small>shape: (145_667_282, 3)</small><table border=\"1\" class=\"dataframe\"><thead><tr><th>user_id</th><th>item_id</th><th>interaction</th></tr><tr><td>u32</td><td>u32</td><td>bool</td></tr></thead><tbody><tr><td>3810</td><td>138979</td><td>false</td></tr><tr><td>101874</td><td>331160</td><td>false</td></tr><tr><td>150332</td><td>73709</td><td>false</td></tr><tr><td>4982</td><td>189745</td><td>false</td></tr><tr><td>149601</td><td>289643</td><td>false</td></tr><tr><td>&hellip;</td><td>&hellip;</td><td>&hellip;</td></tr><tr><td>10718</td><td>93558</td><td>false</td></tr><tr><td>119164</td><td>60206</td><td>false</td></tr><tr><td>171518</td><td>99323</td><td>false</td></tr><tr><td>109533</td><td>74203</td><td>false</td></tr><tr><td>129851</td><td>138079</td><td>false</td></tr></tbody></table></div>"
      ],
      "text/plain": [
       "shape: (145_667_282, 3)\n",
       "┌─────────┬─────────┬─────────────┐\n",
       "│ user_id ┆ item_id ┆ interaction │\n",
       "│ ---     ┆ ---     ┆ ---         │\n",
       "│ u32     ┆ u32     ┆ bool        │\n",
       "╞═════════╪═════════╪═════════════╡\n",
       "│ 3810    ┆ 138979  ┆ false       │\n",
       "│ 101874  ┆ 331160  ┆ false       │\n",
       "│ 150332  ┆ 73709   ┆ false       │\n",
       "│ 4982    ┆ 189745  ┆ false       │\n",
       "│ 149601  ┆ 289643  ┆ false       │\n",
       "│ …       ┆ …       ┆ …           │\n",
       "│ 10718   ┆ 93558   ┆ false       │\n",
       "│ 119164  ┆ 60206   ┆ false       │\n",
       "│ 171518  ┆ 99323   ┆ false       │\n",
       "│ 109533  ┆ 74203   ┆ false       │\n",
       "│ 129851  ┆ 138079  ┆ false       │\n",
       "└─────────┴─────────┴─────────────┘"
      ]
     },
     "execution_count": 18,
     "metadata": {},
     "output_type": "execute_result"
    }
   ],
   "source": [
    "interaction_matrix"
   ]
  },
  {
   "cell_type": "code",
   "execution_count": 13,
   "metadata": {},
   "outputs": [
    {
     "data": {
      "text/html": [
       "<div><style>\n",
       ".dataframe > thead > tr,\n",
       ".dataframe > tbody > tr {\n",
       "  text-align: right;\n",
       "  white-space: pre-wrap;\n",
       "}\n",
       "</style>\n",
       "<small>shape: (3,)</small><table border=\"1\" class=\"dataframe\"><thead><tr><th>interaction</th></tr><tr><td>u8</td></tr></thead><tbody><tr><td>0</td></tr><tr><td>1</td></tr><tr><td>255</td></tr></tbody></table></div>"
      ],
      "text/plain": [
       "shape: (3,)\n",
       "Series: 'interaction' [u8]\n",
       "[\n",
       "\t0\n",
       "\t1\n",
       "\t255\n",
       "]"
      ]
     },
     "execution_count": 13,
     "metadata": {},
     "output_type": "execute_result"
    }
   ],
   "source": [
    "interaction_matrix['interaction'].unique()"
   ]
  },
  {
   "cell_type": "code",
   "execution_count": 24,
   "metadata": {},
   "outputs": [
    {
     "data": {
      "text/html": [
       "<div><style>\n",
       ".dataframe > thead > tr,\n",
       ".dataframe > tbody > tr {\n",
       "  text-align: right;\n",
       "  white-space: pre-wrap;\n",
       "}\n",
       "</style>\n",
       "<small>shape: (6_845_529, 3)</small><table border=\"1\" class=\"dataframe\"><thead><tr><th>user_id</th><th>item_id</th><th>weight</th></tr><tr><td>u32</td><td>u32</td><td>u8</td></tr></thead><tbody><tr><td>3163</td><td>147750</td><td>1</td></tr><tr><td>113832</td><td>306166</td><td>1</td></tr><tr><td>124909</td><td>128209</td><td>1</td></tr><tr><td>183076</td><td>91080</td><td>1</td></tr><tr><td>156215</td><td>289701</td><td>1</td></tr><tr><td>&hellip;</td><td>&hellip;</td><td>&hellip;</td></tr><tr><td>153247</td><td>209536</td><td>1</td></tr><tr><td>21973</td><td>291285</td><td>1</td></tr><tr><td>129733</td><td>183808</td><td>1</td></tr><tr><td>81472</td><td>274701</td><td>1</td></tr><tr><td>153247</td><td>220346</td><td>1</td></tr></tbody></table></div>"
      ],
      "text/plain": [
       "shape: (6_845_529, 3)\n",
       "┌─────────┬─────────┬────────┐\n",
       "│ user_id ┆ item_id ┆ weight │\n",
       "│ ---     ┆ ---     ┆ ---    │\n",
       "│ u32     ┆ u32     ┆ u8     │\n",
       "╞═════════╪═════════╪════════╡\n",
       "│ 3163    ┆ 147750  ┆ 1      │\n",
       "│ 113832  ┆ 306166  ┆ 1      │\n",
       "│ 124909  ┆ 128209  ┆ 1      │\n",
       "│ 183076  ┆ 91080   ┆ 1      │\n",
       "│ 156215  ┆ 289701  ┆ 1      │\n",
       "│ …       ┆ …       ┆ …      │\n",
       "│ 153247  ┆ 209536  ┆ 1      │\n",
       "│ 21973   ┆ 291285  ┆ 1      │\n",
       "│ 129733  ┆ 183808  ┆ 1      │\n",
       "│ 81472   ┆ 274701  ┆ 1      │\n",
       "│ 153247  ┆ 220346  ┆ 1      │\n",
       "└─────────┴─────────┴────────┘"
      ]
     },
     "execution_count": 24,
     "metadata": {},
     "output_type": "execute_result"
    }
   ],
   "source": [
    "train"
   ]
  },
  {
   "cell_type": "code",
   "execution_count": 7,
   "metadata": {},
   "outputs": [],
   "source": [
    "items_meta = pl.read_parquet(\"../data/items_meta.parquet\")\n",
    "users_meta = pl.read_parquet(\"../data/users_meta.parquet\")\n",
    "n_items = items_meta[\"item_id\"].max() + 1\n",
    "n_users = users_meta[\"user_id\"].max() + 1"
   ]
  },
  {
   "cell_type": "code",
   "execution_count": 23,
   "metadata": {},
   "outputs": [
    {
     "data": {
      "text/plain": [
       "337727"
      ]
     },
     "execution_count": 23,
     "metadata": {},
     "output_type": "execute_result"
    }
   ],
   "source": [
    "n_items"
   ]
  },
  {
   "cell_type": "code",
   "execution_count": 36,
   "metadata": {},
   "outputs": [
    {
     "ename": "IndexError",
     "evalue": "Index dimension must be 1 or 2",
     "output_type": "error",
     "traceback": [
      "\u001b[0;31m---------------------------------------------------------------------------\u001b[0m",
      "\u001b[0;31mIndexError\u001b[0m                                Traceback (most recent call last)",
      "Cell \u001b[0;32mIn[36], line 1\u001b[0m\n\u001b[0;32m----> 1\u001b[0m train \u001b[38;5;241m=\u001b[39m csr_matrix((\u001b[43mtrain\u001b[49m\u001b[43m[\u001b[49m\u001b[38;5;124;43m\"\u001b[39;49m\u001b[38;5;124;43mweight\u001b[39;49m\u001b[38;5;124;43m\"\u001b[39;49m\u001b[43m]\u001b[49m,\n\u001b[1;32m      2\u001b[0m                     (train[\u001b[38;5;124m\"\u001b[39m\u001b[38;5;124muser_id\u001b[39m\u001b[38;5;124m\"\u001b[39m]\u001b[38;5;241m.\u001b[39mto_numpy(),\n\u001b[1;32m      3\u001b[0m                      train[\u001b[38;5;124m\"\u001b[39m\u001b[38;5;124mitem_id\u001b[39m\u001b[38;5;124m\"\u001b[39m]\u001b[38;5;241m.\u001b[39mto_numpy())),\n\u001b[1;32m      4\u001b[0m                    shape\u001b[38;5;241m=\u001b[39m(n_users, n_items))\n",
      "File \u001b[0;32m/opt/conda/envs/env/lib/python3.10/site-packages/scipy/sparse/_csr.py:24\u001b[0m, in \u001b[0;36m_csr_base.__getitem__\u001b[0;34m(self, key)\u001b[0m\n\u001b[1;32m     22\u001b[0m \u001b[38;5;28;01mdef\u001b[39;00m \u001b[38;5;21m__getitem__\u001b[39m(\u001b[38;5;28mself\u001b[39m, key):\n\u001b[1;32m     23\u001b[0m     \u001b[38;5;28;01mif\u001b[39;00m \u001b[38;5;28mself\u001b[39m\u001b[38;5;241m.\u001b[39mndim \u001b[38;5;241m==\u001b[39m \u001b[38;5;241m2\u001b[39m:\n\u001b[0;32m---> 24\u001b[0m         \u001b[38;5;28;01mreturn\u001b[39;00m \u001b[38;5;28;43msuper\u001b[39;49m\u001b[43m(\u001b[49m\u001b[43m)\u001b[49m\u001b[38;5;241;43m.\u001b[39;49m\u001b[38;5;21;43m__getitem__\u001b[39;49m\u001b[43m(\u001b[49m\u001b[43mkey\u001b[49m\u001b[43m)\u001b[49m\n\u001b[1;32m     26\u001b[0m     \u001b[38;5;28;01mif\u001b[39;00m \u001b[38;5;28misinstance\u001b[39m(key, \u001b[38;5;28mtuple\u001b[39m) \u001b[38;5;129;01mand\u001b[39;00m \u001b[38;5;28mlen\u001b[39m(key) \u001b[38;5;241m==\u001b[39m \u001b[38;5;241m1\u001b[39m:\n\u001b[1;32m     27\u001b[0m         key \u001b[38;5;241m=\u001b[39m key[\u001b[38;5;241m0\u001b[39m]\n",
      "File \u001b[0;32m/opt/conda/envs/env/lib/python3.10/site-packages/scipy/sparse/_index.py:52\u001b[0m, in \u001b[0;36mIndexMixin.__getitem__\u001b[0;34m(self, key)\u001b[0m\n\u001b[1;32m     51\u001b[0m \u001b[38;5;28;01mdef\u001b[39;00m \u001b[38;5;21m__getitem__\u001b[39m(\u001b[38;5;28mself\u001b[39m, key):\n\u001b[0;32m---> 52\u001b[0m     row, col \u001b[38;5;241m=\u001b[39m \u001b[38;5;28;43mself\u001b[39;49m\u001b[38;5;241;43m.\u001b[39;49m\u001b[43m_validate_indices\u001b[49m\u001b[43m(\u001b[49m\u001b[43mkey\u001b[49m\u001b[43m)\u001b[49m\n\u001b[1;32m     54\u001b[0m     \u001b[38;5;66;03m# Dispatch to specialized methods.\u001b[39;00m\n\u001b[1;32m     55\u001b[0m     \u001b[38;5;28;01mif\u001b[39;00m \u001b[38;5;28misinstance\u001b[39m(row, INT_TYPES):\n",
      "File \u001b[0;32m/opt/conda/envs/env/lib/python3.10/site-packages/scipy/sparse/_index.py:186\u001b[0m, in \u001b[0;36mIndexMixin._validate_indices\u001b[0;34m(self, key)\u001b[0m\n\u001b[1;32m    184\u001b[0m     row \u001b[38;5;241m=\u001b[39m _validate_bool_idx(bool_row, M, \u001b[38;5;124m\"\u001b[39m\u001b[38;5;124mrow\u001b[39m\u001b[38;5;124m\"\u001b[39m)\n\u001b[1;32m    185\u001b[0m \u001b[38;5;28;01melif\u001b[39;00m \u001b[38;5;129;01mnot\u001b[39;00m \u001b[38;5;28misinstance\u001b[39m(row, \u001b[38;5;28mslice\u001b[39m):\n\u001b[0;32m--> 186\u001b[0m     row \u001b[38;5;241m=\u001b[39m \u001b[38;5;28;43mself\u001b[39;49m\u001b[38;5;241;43m.\u001b[39;49m\u001b[43m_asindices\u001b[49m\u001b[43m(\u001b[49m\u001b[43mrow\u001b[49m\u001b[43m,\u001b[49m\u001b[43m \u001b[49m\u001b[43mM\u001b[49m\u001b[43m)\u001b[49m\n\u001b[1;32m    188\u001b[0m \u001b[38;5;28;01mif\u001b[39;00m isintlike(col):\n\u001b[1;32m    189\u001b[0m     col \u001b[38;5;241m=\u001b[39m \u001b[38;5;28mint\u001b[39m(col)\n",
      "File \u001b[0;32m/opt/conda/envs/env/lib/python3.10/site-packages/scipy/sparse/_index.py:212\u001b[0m, in \u001b[0;36mIndexMixin._asindices\u001b[0;34m(self, idx, length)\u001b[0m\n\u001b[1;32m    209\u001b[0m     \u001b[38;5;28;01mraise\u001b[39;00m \u001b[38;5;167;01mIndexError\u001b[39;00m(\u001b[38;5;124m'\u001b[39m\u001b[38;5;124minvalid index\u001b[39m\u001b[38;5;124m'\u001b[39m) \u001b[38;5;28;01mfrom\u001b[39;00m \u001b[38;5;21;01me\u001b[39;00m\n\u001b[1;32m    211\u001b[0m \u001b[38;5;28;01mif\u001b[39;00m x\u001b[38;5;241m.\u001b[39mndim \u001b[38;5;129;01mnot\u001b[39;00m \u001b[38;5;129;01min\u001b[39;00m (\u001b[38;5;241m1\u001b[39m, \u001b[38;5;241m2\u001b[39m):\n\u001b[0;32m--> 212\u001b[0m     \u001b[38;5;28;01mraise\u001b[39;00m \u001b[38;5;167;01mIndexError\u001b[39;00m(\u001b[38;5;124m'\u001b[39m\u001b[38;5;124mIndex dimension must be 1 or 2\u001b[39m\u001b[38;5;124m'\u001b[39m)\n\u001b[1;32m    214\u001b[0m \u001b[38;5;28;01mif\u001b[39;00m x\u001b[38;5;241m.\u001b[39msize \u001b[38;5;241m==\u001b[39m \u001b[38;5;241m0\u001b[39m:\n\u001b[1;32m    215\u001b[0m     \u001b[38;5;28;01mreturn\u001b[39;00m x\n",
      "\u001b[0;31mIndexError\u001b[0m: Index dimension must be 1 or 2"
     ]
    }
   ],
   "source": [
    "train = csr_matrix((train[\"weight\"],\n",
    "                    (train[\"user_id\"].to_numpy(),\n",
    "                     train[\"item_id\"].to_numpy())),\n",
    "                   shape=(n_users, n_items))"
   ]
  },
  {
   "cell_type": "code",
   "execution_count": 35,
   "metadata": {},
   "outputs": [
    {
     "data": {
      "text/plain": [
       "np.uint64(513)"
      ]
     },
     "execution_count": 35,
     "metadata": {},
     "output_type": "execute_result"
    }
   ],
   "source": [
    "train.toarray().sum()"
   ]
  },
  {
   "cell_type": "code",
   "execution_count": 44,
   "metadata": {},
   "outputs": [
    {
     "name": "stderr",
     "output_type": "stream",
     "text": [
      "/opt/conda/envs/env/lib/python3.10/site-packages/implicit/cpu/als.py:95: RuntimeWarning: OpenBLAS is configured to use 8 threads. It is highly recommended to disable its internal threadpool by setting the environment variable 'OPENBLAS_NUM_THREADS=1' or by calling 'threadpoolctl.threadpool_limits(1, \"blas\")'. Having OpenBLAS use a threadpool can lead to severe performance issues here.\n",
      "  check_blas_config()\n",
      "100%|██████████| 10/10 [01:41<00:00, 10.14s/it, loss=0.0062] \n"
     ]
    }
   ],
   "source": [
    "model = implicit.als.AlternatingLeastSquares(factors=16,\n",
    "                                             iterations=10,\n",
    "                                             regularization=1,\n",
    "                                             alpha=100,\n",
    "                                             calculate_training_loss=True)\n",
    "model.fit(train)"
   ]
  },
  {
   "cell_type": "code",
   "execution_count": 45,
   "metadata": {},
   "outputs": [
    {
     "data": {
      "text/html": [
       "<div><style>\n",
       ".dataframe > thead > tr,\n",
       ".dataframe > tbody > tr {\n",
       "  text-align: right;\n",
       "  white-space: pre-wrap;\n",
       "}\n",
       "</style>\n",
       "<small>shape: (1_655_120, 2)</small><table border=\"1\" class=\"dataframe\"><thead><tr><th>user_id</th><th>item_id</th></tr><tr><td>i64</td><td>i64</td></tr></thead><tbody><tr><td>1</td><td>7363</td></tr><tr><td>1</td><td>73770</td></tr><tr><td>1</td><td>75700</td></tr><tr><td>1</td><td>81204</td></tr><tr><td>1</td><td>110249</td></tr><tr><td>&hellip;</td><td>&hellip;</td></tr><tr><td>183403</td><td>235097</td></tr><tr><td>183403</td><td>267411</td></tr><tr><td>183403</td><td>273646</td></tr><tr><td>183403</td><td>288305</td></tr><tr><td>183403</td><td>322029</td></tr></tbody></table></div>"
      ],
      "text/plain": [
       "shape: (1_655_120, 2)\n",
       "┌─────────┬─────────┐\n",
       "│ user_id ┆ item_id │\n",
       "│ ---     ┆ ---     │\n",
       "│ i64     ┆ i64     │\n",
       "╞═════════╪═════════╡\n",
       "│ 1       ┆ 7363    │\n",
       "│ 1       ┆ 73770   │\n",
       "│ 1       ┆ 75700   │\n",
       "│ 1       ┆ 81204   │\n",
       "│ 1       ┆ 110249  │\n",
       "│ …       ┆ …       │\n",
       "│ 183403  ┆ 235097  │\n",
       "│ 183403  ┆ 267411  │\n",
       "│ 183403  ┆ 273646  │\n",
       "│ 183403  ┆ 288305  │\n",
       "│ 183403  ┆ 322029  │\n",
       "└─────────┴─────────┘"
      ]
     },
     "execution_count": 45,
     "metadata": {},
     "output_type": "execute_result"
    }
   ],
   "source": [
    "test_pairs = pl.read_csv('../data/test_pairs.csv')\n",
    "test_pairs"
   ]
  },
  {
   "cell_type": "code",
   "execution_count": 46,
   "metadata": {},
   "outputs": [],
   "source": [
    "als_predict = (model.user_factors[test_pairs['user_id']] *\n",
    "               model.item_factors[test_pairs['item_id']]).sum(axis=1)"
   ]
  },
  {
   "cell_type": "code",
   "execution_count": 51,
   "metadata": {},
   "outputs": [
    {
     "data": {
      "text/plain": [
       "np.float32(-1.5748558)"
      ]
     },
     "execution_count": 51,
     "metadata": {},
     "output_type": "execute_result"
    }
   ],
   "source": [
    "min(als_predict)"
   ]
  },
  {
   "cell_type": "code",
   "execution_count": 49,
   "metadata": {},
   "outputs": [],
   "source": [
    "test_pairs.with_columns(predict=als_predict).write_csv('sample_submission.csv')"
   ]
  }
 ],
 "metadata": {
  "kernelspec": {
   "display_name": "vk_recsys",
   "language": "python",
   "name": "python3"
  },
  "language_info": {
   "codemirror_mode": {
    "name": "ipython",
    "version": 3
   },
   "file_extension": ".py",
   "mimetype": "text/x-python",
   "name": "python",
   "nbconvert_exporter": "python",
   "pygments_lexer": "ipython3",
   "version": "3.10.15"
  }
 },
 "nbformat": 4,
 "nbformat_minor": 2
}
