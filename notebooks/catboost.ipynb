{
 "cells": [
  {
   "cell_type": "code",
   "execution_count": null,
   "metadata": {},
   "outputs": [],
   "source": [
    "import pandas as pd\n",
    "import numpy as np\n",
    "\n",
    "from sklearn.ensemble import GradientBoostingClassifier, RandomForestClassifier\n",
    "from sklearn.linear_model import SGDClassifier\n",
    "import xgboost as xgb\n",
    "from sklearn.model_selection import GridSearchCV"
   ]
  },
  {
   "cell_type": "code",
   "execution_count": null,
   "metadata": {},
   "outputs": [],
   "source": [
    "%cd /Users/vladimirkalajcidi/vk_recsys"
   ]
  },
  {
   "cell_type": "code",
   "execution_count": null,
   "metadata": {},
   "outputs": [],
   "source": [
    "train_interactions = pd.read_parquet('data/train_interactions.parquet')\n",
    "users_meta = pd.read_parquet('data/users_meta.parquet')\n",
    "items_meta = pd.read_parquet('data/items_meta.parquet')"
   ]
  },
  {
   "cell_type": "code",
   "execution_count": null,
   "metadata": {},
   "outputs": [],
   "source": [
    "items_meta=items_meta.drop(columns=['embeddings'])"
   ]
  },
  {
   "cell_type": "code",
   "execution_count": null,
   "metadata": {},
   "outputs": [],
   "source": [
    "def calculate_unique_sources(df):\n",
    "    \"\"\" Calculates the number of unique source_ids for each user_id in the given DataFrame. \"\"\"\n",
    "    user_sources = df.merge(items_meta[['item_id', 'source_id']], on='item_id', how='left')\n",
    "    unique_source_count = user_sources.groupby('user_id')['source_id'].nunique().reset_index(name='unique_source_count')\n",
    "    return unique_source_count"
   ]
  },
  {
   "cell_type": "code",
   "execution_count": null,
   "metadata": {},
   "outputs": [],
   "source": [
    "# Prepare DataFrames for storing item metrics and user metrics\n",
    "item_metrics_final = pd.DataFrame()\n",
    "user_metrics_final = pd.DataFrame()\n",
    "\n",
    "# Define functions for metrics calculations\n",
    "def calculate_item_metrics(df):\n",
    "    item_metrics = df.groupby('item_id').agg(\n",
    "        total_likes=('like', 'sum'),\n",
    "        total_dislikes=('dislike', 'sum'),\n",
    "        total_shares=('share', 'sum'),\n",
    "        total_bookmarks=('bookmarks', 'sum'),\n",
    "        avg_timespent=('timespent', 'mean'),\n",
    "    ).reset_index()\n",
    "    return item_metrics\n",
    "\n",
    "def calculate_gender_metrics(df, users_meta):\n",
    "    # Merge interactions with user metadata\n",
    "    extended_df = df.merge(users_meta, on='user_id', how='left')\n",
    "\n",
    "    # Calculate likes and dislikes for males (1) and females (2)\n",
    "    gender_likes = extended_df[extended_df['like'] == 1].groupby(['item_id', 'gender']).size().unstack(fill_value=0)\n",
    "\n",
    "    male_likes = gender_likes.get(1, pd.Series(0)).reset_index(name='male_likes')\n",
    "    female_likes = gender_likes.get(2, pd.Series(0)).reset_index(name='female_likes')\n",
    "\n",
    "    gender_dislikes = extended_df[extended_df['dislike'] == 1].groupby(['item_id', 'gender']).size().unstack(fill_value=0)\n",
    "\n",
    "    male_dislikes = gender_dislikes.get(1, pd.Series(0)).reset_index(name='male_dislikes')\n",
    "    female_dislikes = gender_dislikes.get(2, pd.Series(0)).reset_index(name='female_dislikes')\n",
    "\n",
    "    # Merge the results\n",
    "    male_likes = male_likes.rename(columns={male_likes.columns[0]: 'item_id'})\n",
    "    female_likes = female_likes.rename(columns={female_likes.columns[0]: 'item_id'})\n",
    "    male_dislikes = male_dislikes.rename(columns={male_dislikes.columns[0]: 'item_id'})\n",
    "    female_dislikes = female_dislikes.rename(columns={female_dislikes.columns[0]: 'item_id'})\n",
    "\n",
    "    return male_likes, female_likes, male_dislikes, female_dislikes\n",
    "\n",
    "def calculate_unique_sources(df):\n",
    "    user_sources = df.merge(items_meta[['item_id', 'source_id']], on='item_id', how='left')\n",
    "    unique_source_count = user_sources.groupby('user_id')['source_id'].nunique().reset_index(name='unique_source_count')\n",
    "    return unique_source_count"
   ]
  },
  {
   "cell_type": "code",
   "execution_count": null,
   "metadata": {},
   "outputs": [],
   "source": [
    "def calculate_metrics(train_interactions, users_meta, items_meta):\n",
    "    # Step 1: Count likes and occurrences of each item_id\n",
    "    likes_count = train_interactions[train_interactions['like'] == 1].groupby('item_id').size().reset_index(name='total_likes')\n",
    "    item_encounter_count = train_interactions['item_id'].value_counts().reset_index()\n",
    "    item_encounter_count.columns = ['item_id', 'item_encounter_count']\n",
    "    \n",
    "    # Step 2: Merge likes count with encounter count\n",
    "    item_metrics = likes_count.merge(item_encounter_count, on='item_id', how='left').fillna(0)\n",
    "\n",
    "    # Step 3: Count likes by gender\n",
    "    gender_likes = (\n",
    "        train_interactions[train_interactions['like'] == 1]\n",
    "        .merge(users_meta[['user_id', 'gender']], on='user_id', how='left')\n",
    "        .groupby(['item_id', 'gender'])\n",
    "        .size()\n",
    "        .unstack(fill_value=0)\n",
    "    )\n",
    "\n",
    "    # Prepare the gender like counts\n",
    "    male_likes = gender_likes.get(1, pd.Series(0)).reset_index(name='male_likes')\n",
    "    female_likes = gender_likes.get(2, pd.Series(0)).reset_index(name='female_likes')\n",
    "\n",
    "    # Step 4: Merge gender likes into item metrics\n",
    "    item_metrics = item_metrics.merge(male_likes, on='item_id', how='left').fillna(0)\n",
    "    item_metrics = item_metrics.merge(female_likes, on='item_id', how='left').fillna(0)\n",
    "\n",
    "    # Calculate the average likes by gender\n",
    "    item_metrics['avg_likes_per_gender'] = (item_metrics['male_likes'] + item_metrics['female_likes']) / 2\n",
    "\n",
    "\n",
    "    return item_metrics\n",
    "\n",
    "# Load your data"
   ]
  },
  {
   "cell_type": "code",
   "execution_count": null,
   "metadata": {},
   "outputs": [],
   "source": [
    "# Call the function to calculate metrics and merge with items_meta\n",
    "result = calculate_metrics(train_interactions, users_meta, items_meta)"
   ]
  },
  {
   "cell_type": "code",
   "execution_count": null,
   "metadata": {},
   "outputs": [],
   "source": [
    "# Loop through each specified row count\n",
    "# Calculate item metrics\n",
    "item_metrics = calculate_item_metrics(train_interactions)\n",
    "male_likes, female_likes, male_dislikes, female_dislikes = calculate_gender_metrics(train_interactions, users_meta)\n",
    "\n",
    "# Merge gender metrics\n",
    "item_metrics = item_metrics.merge(male_likes, on='item_id', how='left')\n",
    "item_metrics = item_metrics.merge(female_likes, on='item_id', how='left')\n",
    "item_metrics = item_metrics.merge(male_dislikes, on='item_id', how='left')\n",
    "item_metrics = item_metrics.merge(female_dislikes, on='item_id', how='left')\n",
    "item_metrics = item_metrics.merge(result, on='item_id', how='left')\n",
    "\n",
    "# Add suffix to distinguish metrics by row count\n",
    "\n",
    "item_metrics.columns = [f'{col}_all' if col != 'item_id' else 'item_id' for col in item_metrics.columns]\n",
    "\n",
    "# Merge into the final aggregated metrics DataFrame\n",
    "if item_metrics_final.empty:\n",
    "    item_metrics_final = item_metrics\n",
    "else:\n",
    "    item_metrics_final = item_metrics_final.merge(item_metrics, on='item_id', how='outer')\n",
    "\n",
    "# Calculate unique source counts for users and merge into user metrics DataFrame\n",
    "user_unique_sources = calculate_unique_sources(train_interactions)\n",
    "\n",
    "# Add suffix for user metrics by row count\n",
    "user_unique_sources.columns = ['user_id', f'unique_source_count_all']\n",
    "\n",
    "if user_metrics_final.empty:\n",
    "    user_metrics_final = user_unique_sources\n",
    "else:\n",
    "    user_metrics_final = user_metrics_final.merge(user_unique_sources, on='user_id', how='outer')\n"
   ]
  },
  {
   "cell_type": "code",
   "execution_count": null,
   "metadata": {},
   "outputs": [],
   "source": [
    "items_meta = items_meta.merge(item_metrics_final, on='item_id', how='left')\n",
    "items_meta.fillna(0, inplace=True)\n",
    "\n",
    "users_meta = users_meta.merge(user_metrics_final, on='user_id', how='left')\n",
    "users_meta.fillna(0, inplace=True)"
   ]
  },
  {
   "cell_type": "code",
   "execution_count": null,
   "metadata": {},
   "outputs": [],
   "source": [
    "test_pairs = pd.read_csv('data/test_pairs.csv')\n",
    "\n",
    "users = test_pairs['user_id'].unique()\n",
    "items = test_pairs['item_id'].unique()"
   ]
  },
  {
   "cell_type": "code",
   "execution_count": null,
   "metadata": {},
   "outputs": [],
   "source": [
    "train_interactions['like'] = train_interactions['like'].astype('int32')    # Convert to signed integer\n",
    "train_interactions['dislike'] = train_interactions['dislike'].astype('int32')  # Convert to signed integer\n",
    "\n",
    "train_interactions['label'] = abs(train_interactions['like'] - train_interactions['dislike'])\n",
    "\n",
    "#train_interactions = train_interactions[train_interactions['user_id'].isin(users)][train_interactions['item_id'].isin(items)]\n",
    "#train_interactions = train_interactions.loc[5_000_000:]"
   ]
  },
  {
   "cell_type": "code",
   "execution_count": null,
   "metadata": {},
   "outputs": [],
   "source": [
    "train_interactions = train_interactions.merge(users_meta, on='user_id', how='left')\n",
    "train_interactions = train_interactions.merge(items_meta, on='item_id', how='left')"
   ]
  },
  {
   "cell_type": "code",
   "execution_count": null,
   "metadata": {},
   "outputs": [],
   "source": [
    "train_interactions = train_interactions[['gender', 'age', 'unique_source_count_all',\n",
    "       'source_id', 'duration', 'total_likes_x_all', 'total_dislikes_all',\n",
    "       'total_shares_all', 'total_bookmarks_all', 'avg_timespent_all',\n",
    "       'male_likes_x_all', 'female_likes_x_all', 'male_dislikes_all',\n",
    "       'female_dislikes_all', 'item_encounter_count_all',\n",
    "       'avg_likes_per_gender_all', 'label']]"
   ]
  },
  {
   "cell_type": "code",
   "execution_count": null,
   "metadata": {},
   "outputs": [],
   "source": [
    "from catboost import CatBoostClassifier\n",
    "\n",
    "categorical_features = ['gender', 'source_id']\n",
    "class_weight = len(train_interactions[train_interactions['label'] == 0]) / len(train_interactions[train_interactions['label'] == 1])\n",
    "\n",
    "model = CatBoostClassifier(iterations=10, depth=8, learning_rate=0.1, cat_features=categorical_features,\n",
    "                           loss_function='Logloss', custom_metric=['AUC'], random_seed=42, scale_pos_weight=class_weight)\n",
    "model.fit(train_interactions.drop(columns=['label']), train_interactions['label'])"
   ]
  }
 ],
 "metadata": {
  "kernelspec": {
   "display_name": "vk_recsys",
   "language": "python",
   "name": "python3"
  },
  "language_info": {
   "name": "python",
   "version": "3.10.15"
  }
 },
 "nbformat": 4,
 "nbformat_minor": 2
}
